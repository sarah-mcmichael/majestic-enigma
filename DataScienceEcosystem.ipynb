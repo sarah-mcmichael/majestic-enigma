{
  "metadata": {
    "kernelspec": {
      "name": "python",
      "display_name": "Python (Pyodide)",
      "language": "python"
    },
    "language_info": {
      "codemirror_mode": {
        "name": "python",
        "version": 3
      },
      "file_extension": ".py",
      "mimetype": "text/x-python",
      "name": "python",
      "nbconvert_exporter": "python",
      "pygments_lexer": "ipython3",
      "version": "3.8"
    }
  },
  "nbformat_minor": 5,
  "nbformat": 4,
  "cells": [
    {
      "id": "9e014751-f3d0-420b-bf96-448a6c026820",
      "cell_type": "markdown",
      "source": "# Data Science Tools and Ecosystem",
      "metadata": {}
    },
    {
      "id": "3187903e-5b5d-4bf9-ae71-a7f9c250cb91",
      "cell_type": "markdown",
      "source": "In this notebook, Data Science Tools and Ecosystem are summarized.",
      "metadata": {}
    },
    {
      "id": "33724dcd-0770-4e97-8670-4df8a5ced730",
      "cell_type": "markdown",
      "source": "**Objectives:**\n- List popular languages for Data Science\n- List popular libraries for Data Science\n- List popular tools for Data Science\n- Python arithmetic expression examples",
      "metadata": {}
    },
    {
      "id": "09bcb98a-4ab5-4997-8271-ad29a93d7ff2",
      "cell_type": "markdown",
      "source": "Some of the popular languages that Data Scientists use are:\n1. R\n2. SQL\n3. Python",
      "metadata": {}
    },
    {
      "id": "4d1cece4-1685-4582-9c12-166e10af54f0",
      "cell_type": "markdown",
      "source": "Some of the commonly used libraries used by Data Scientists include:\n1. pandas\n2. scipy\n3. matplotlib",
      "metadata": {}
    },
    {
      "id": "1459f626-2f57-4f49-9171-b1a9c8b6b9b9",
      "cell_type": "markdown",
      "source": "| Data Science Tools |\n| ------------------ |\n| RStudio |\n| Jupyter Notebook |\n| Apache Spark |",
      "metadata": {}
    },
    {
      "id": "4ea7a15a-62ec-4cb7-80a8-fc2af3c6c1e8",
      "cell_type": "markdown",
      "source": "### Below are a few examples of evaluating arithmetic expressions in Python",
      "metadata": {}
    },
    {
      "id": "91599d8f-2ad1-492d-a9ad-8ed2cca2a69a",
      "cell_type": "code",
      "source": "# This a simple arithmetic expression to mutiply then add integers\n(3*4)+5",
      "metadata": {
        "trusted": true
      },
      "outputs": [
        {
          "execution_count": 1,
          "output_type": "execute_result",
          "data": {
            "text/plain": "17"
          },
          "metadata": {}
        }
      ],
      "execution_count": 1
    },
    {
      "id": "f09d464b-a517-4d0b-949a-93b2f9fd681c",
      "cell_type": "code",
      "source": "# This will convert 200 minutes to hours by diving by 60\n200/60",
      "metadata": {
        "trusted": true
      },
      "outputs": [
        {
          "execution_count": 2,
          "output_type": "execute_result",
          "data": {
            "text/plain": "3.3333333333333335"
          },
          "metadata": {}
        }
      ],
      "execution_count": 2
    },
    {
      "id": "7c426261-29e5-4edd-b34e-11e303cca742",
      "cell_type": "markdown",
      "source": "## Author\nLP",
      "metadata": {}
    }
  ]
}